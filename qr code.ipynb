{
 "cells": [
  {
   "cell_type": "code",
   "execution_count": 3,
   "id": "cec5806a",
   "metadata": {},
   "outputs": [
    {
     "name": "stdout",
     "output_type": "stream",
     "text": [
      "Requirement already satisfied: qrcode[pil] in c:\\users\\prady\\anaconda3\\lib\\site-packages (7.4.2)\n",
      "Requirement already satisfied: typing-extensions in c:\\users\\prady\\anaconda3\\lib\\site-packages (from qrcode[pil]) (4.7.1)\n",
      "Requirement already satisfied: pypng in c:\\users\\prady\\anaconda3\\lib\\site-packages (from qrcode[pil]) (0.20220715.0)\n",
      "Requirement already satisfied: colorama in c:\\users\\prady\\anaconda3\\lib\\site-packages (from qrcode[pil]) (0.4.6)\n",
      "Requirement already satisfied: pillow>=9.1.0 in c:\\users\\prady\\anaconda3\\lib\\site-packages (from qrcode[pil]) (9.4.0)\n",
      "Note: you may need to restart the kernel to use updated packages.\n"
     ]
    }
   ],
   "source": [
    "pip install qrcode[pil]"
   ]
  },
  {
   "cell_type": "code",
   "execution_count": 4,
   "id": "d4fd766d",
   "metadata": {},
   "outputs": [],
   "source": [
    "import qrcode\n",
    "import os"
   ]
  },
  {
   "cell_type": "code",
   "execution_count": 10,
   "id": "6adb149a",
   "metadata": {},
   "outputs": [],
   "source": [
    "# Input the website URL you want to generate a QR code for\n",
    "url = 'https://pradyog.com'"
   ]
  },
  {
   "cell_type": "code",
   "execution_count": 11,
   "id": "25e791a9",
   "metadata": {},
   "outputs": [],
   "source": [
    "# Function to determine the default download path\n",
    "def get_download_path():\n",
    "    \"\"\"Returns the default downloads path for linux or windows\"\"\"\n",
    "    if os.name == 'nt':  # for Windows\n",
    "        import winreg\n",
    "        sub_key = r'SOFTWARE\\Microsoft\\Windows\\CurrentVersion\\Explorer\\Shell Folders'\n",
    "        downloads_guid = '{374DE290-123F-4565-9164-39C4925E467B}'\n",
    "        with winreg.OpenKey(winreg.HKEY_CURRENT_USER, sub_key) as key:\n",
    "            location = winreg.QueryValueEx(key, downloads_guid)[0]\n",
    "        return location\n",
    "    else:  # Linux and macOS\n",
    "        return os.path.join(os.path.expanduser('~'), 'Downloads')"
   ]
  },
  {
   "cell_type": "code",
   "execution_count": 12,
   "id": "8426c79a",
   "metadata": {},
   "outputs": [],
   "source": [
    "# Generate QR code\n",
    "qr = qrcode.QRCode(\n",
    "    version=1,\n",
    "    error_correction=qrcode.constants.ERROR_CORRECT_L,\n",
    "    box_size=10,\n",
    "    border=4,\n",
    ")\n",
    "qr.add_data(url)\n",
    "qr.make(fit=True)"
   ]
  },
  {
   "cell_type": "code",
   "execution_count": 13,
   "id": "c32f47af",
   "metadata": {},
   "outputs": [],
   "source": [
    "# Create an image from the QR Code instance\n",
    "img = qr.make_image(fill_color=\"black\", back_color=\"white\")"
   ]
  },
  {
   "cell_type": "code",
   "execution_count": 14,
   "id": "49899428",
   "metadata": {},
   "outputs": [
    {
     "name": "stdout",
     "output_type": "stream",
     "text": [
      "QR code generated and saved as F:\\website_qr.png\n"
     ]
    }
   ],
   "source": [
    "# Save the image to the default download path\n",
    "download_path = get_download_path()\n",
    "filename = \"website_qr.png\"\n",
    "save_path = os.path.join(download_path, filename)\n",
    "img.save(save_path)\n",
    "\n",
    "print(f\"QR code generated and saved as {save_path}\")"
   ]
  },
  {
   "cell_type": "code",
   "execution_count": null,
   "id": "d0ee673e",
   "metadata": {},
   "outputs": [],
   "source": []
  }
 ],
 "metadata": {
  "kernelspec": {
   "display_name": "Python 3 (ipykernel)",
   "language": "python",
   "name": "python3"
  },
  "language_info": {
   "codemirror_mode": {
    "name": "ipython",
    "version": 3
   },
   "file_extension": ".py",
   "mimetype": "text/x-python",
   "name": "python",
   "nbconvert_exporter": "python",
   "pygments_lexer": "ipython3",
   "version": "3.11.5"
  }
 },
 "nbformat": 4,
 "nbformat_minor": 5
}
